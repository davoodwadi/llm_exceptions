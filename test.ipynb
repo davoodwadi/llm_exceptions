{
 "cells": [
  {
   "cell_type": "code",
   "execution_count": 1,
   "metadata": {},
   "outputs": [
    {
     "name": "stdout",
     "output_type": "stream",
     "text": [
      "<ipykernel.zmqshell.ZMQInteractiveShell object at 0x106217100>\n"
     ]
    }
   ],
   "source": [
    "import llm_exceptions"
   ]
  },
  {
   "cell_type": "code",
   "execution_count": 2,
   "metadata": {},
   "outputs": [],
   "source": [
    "# %llm_magic"
   ]
  },
  {
   "cell_type": "code",
   "execution_count": 9,
   "metadata": {},
   "outputs": [
    {
     "name": "stdout",
     "output_type": "stream",
     "text": [
      "True\n",
      "llm_exceptions loaded successfully!\n"
     ]
    }
   ],
   "source": [
    "%load_ext llm_exceptions"
   ]
  },
  {
   "cell_type": "code",
   "execution_count": 2,
   "metadata": {},
   "outputs": [
    {
     "name": "stdout",
     "output_type": "stream",
     "text": [
      "Traceback (most recent call last):\n",
      "  File \"/Users/davoodwadi/pyth/venv/lib/python3.10/site-packages/IPython/core/interactiveshell.py\", line 3577, in run_code\n",
      "    exec(code_obj, self.user_global_ns, self.user_ns)\n",
      "  File \"/var/folders/jv/ppbxly7j7vzgcr8sdv78s2hr0000gn/T/ipykernel_4537/161689271.py\", line 1, in <module>\n",
      "    import gfd\n",
      "ModuleNotFoundError: No module named 'gfd'\n",
      "\n"
     ]
    },
    {
     "data": {
      "text/markdown": [
       "--------------------"
      ]
     },
     "metadata": {},
     "output_type": "display_data"
    },
    {
     "data": {
      "text/markdown": [
       "**LLM:**"
      ]
     },
     "metadata": {},
     "output_type": "display_data"
    },
    {
     "data": {
      "text/markdown": [
       "**Error:**\n",
       "```\n",
       "ModuleNotFoundError: No module named 'gfd'\n",
       "```\n",
       "\n",
       "**Debugging Steps:**\n",
       "\n",
       "1. **Check if the module exists**: The error message indicates that Python cannot find a module named `gfd`. This suggests that the module does not exist or is not installed.\n",
       "2. **Install the module**: Try installing the `gfd` module using pip: `pip install gfd`\n",
       "3. **Verify the installation**: After installation, try importing the module again: `import gfd`\n",
       "\n",
       "**Alternative Solution:**\n",
       "If the `gfd` module does not exist, you can create a custom module with the same name or rename the existing module to avoid conflicts.\n",
       "\n",
       "**Example:**\n",
       "If you want to create a custom module, create a new file named `gfd.py` in the same directory as your script and add your code to it. Then, try importing the module again."
      ]
     },
     "metadata": {},
     "output_type": "display_data"
    }
   ],
   "source": [
    "import gfd\n"
   ]
  },
  {
   "cell_type": "code",
   "execution_count": 10,
   "metadata": {},
   "outputs": [
    {
     "data": {
      "text/plain": [
       "{'IPython.extensions.storemagic', 'llm_exceptions'}"
      ]
     },
     "execution_count": 10,
     "metadata": {},
     "output_type": "execute_result"
    }
   ],
   "source": [
    "kernel = get_ipython()\n",
    "kernel.extension_manager.loaded\n",
    "kernel.extension_manager."
   ]
  },
  {
   "cell_type": "code",
   "execution_count": 3,
   "metadata": {},
   "outputs": [
    {
     "name": "stdout",
     "output_type": "stream",
     "text": [
      "Traceback (most recent call last):\n",
      "  File \"/Users/davoodwadi/pyth/venv/lib/python3.10/site-packages/IPython/core/interactiveshell.py\", line 3577, in run_code\n",
      "    exec(code_obj, self.user_global_ns, self.user_ns)\n",
      "  File \"/var/folders/jv/ppbxly7j7vzgcr8sdv78s2hr0000gn/T/ipykernel_4560/161689271.py\", line 1, in <module>\n",
      "    import gfd\n",
      "ModuleNotFoundError: No module named 'gfd'\n",
      "\n"
     ]
    },
    {
     "data": {
      "text/markdown": [
       "--------------------"
      ]
     },
     "metadata": {},
     "output_type": "display_data"
    },
    {
     "data": {
      "text/markdown": [
       "**LLM:**"
      ]
     },
     "metadata": {},
     "output_type": "display_data"
    },
    {
     "data": {
      "text/markdown": [
       "**Error:**\n",
       "```\n",
       "ModuleNotFoundError: No module named 'gfd'\n",
       "```\n",
       "\n",
       "**Debugging Steps:**\n",
       "\n",
       "1. **Check if the module exists**: The error message indicates that Python cannot find a module named `gfd`. This suggests that the module does not exist or is not installed.\n",
       "2. **Install the module**: Try installing the `gfd` module using pip: `pip install gfd`\n",
       "3. **Verify the installation**: After installation, try importing the module again: `import gfd`\n",
       "\n",
       "**Alternative Solution:**\n",
       "If the `gfd` module does not exist, you can create a custom module with the same name or rename the existing module to avoid conflicts.\n",
       "\n",
       "**Example:**\n",
       "If you want to create a custom module, create a new file named `gfd.py` in the same directory as your script and add your code to it. Then, try importing the module again."
      ]
     },
     "metadata": {},
     "output_type": "display_data"
    }
   ],
   "source": [
    "import gfd\n"
   ]
  },
  {
   "cell_type": "code",
   "execution_count": null,
   "metadata": {},
   "outputs": [],
   "source": []
  }
 ],
 "metadata": {
  "kernelspec": {
   "display_name": "venv",
   "language": "python",
   "name": "python3"
  },
  "language_info": {
   "codemirror_mode": {
    "name": "ipython",
    "version": 3
   },
   "file_extension": ".py",
   "mimetype": "text/x-python",
   "name": "python",
   "nbconvert_exporter": "python",
   "pygments_lexer": "ipython3",
   "version": "3.10.11"
  }
 },
 "nbformat": 4,
 "nbformat_minor": 2
}
